{
 "cells": [
  {
   "cell_type": "code",
   "execution_count": 5,
   "id": "a1bb3d63-3819-4c51-a361-859481005bd5",
   "metadata": {},
   "outputs": [
    {
     "name": "stdout",
     "output_type": "stream",
     "text": [
      "CTAATGT\n",
      "TGTAATC\n"
     ]
    }
   ],
   "source": [
    "#Question 1\n",
    "#create a function that will provide the DNA sequence and create a parameter that will control the order of the DNA sequence that will be retured\n",
    "def complement_dna(sequence, direction= 'same'):\n",
    "\n",
    "    #This will store the complementary bases for each nucleotide\n",
    "    complement = {'A': 'T', 'T': 'A', 'G': 'C', 'C': 'G', 'a': 'T', 't':'A', 'g': 'C', 'c': 'G'}\n",
    "\n",
    "    #create an emptry string for the complementary sequence to be added to \n",
    "    comp_sequence = ''\n",
    "\n",
    "    #Use a for loop to convert to the complementary sequence\n",
    "    for nucleotide in sequence:\n",
    "        comp_sequence += complement[nucleotide]\n",
    "\n",
    "    #Make the sequence reversible \n",
    "    if direction == 'reverse':\n",
    "        comp_sequence = comp_sequence[::-1]\n",
    "\n",
    "    #return the complementary sequence\n",
    "    return comp_sequence\n",
    "\n",
    "#print function\n",
    "print(complement_dna('GATTACA'))\n",
    "print(complement_dna('gattaca', 'reverse'))\n",
    "    "
   ]
  },
  {
   "cell_type": "code",
   "execution_count": 17,
   "id": "e31bce2a-0193-49e5-b461-40aaf432144d",
   "metadata": {},
   "outputs": [
    {
     "name": "stdin",
     "output_type": "stream",
     "text": [
      "submit integer here: 13\n"
     ]
    },
    {
     "name": "stdout",
     "output_type": "stream",
     "text": [
      "13 is a prime number.\n"
     ]
    }
   ],
   "source": [
    "#Question 2\n",
    "#Create a function to check if the nuber is prime\n",
    "def prime(n):\n",
    "    #Check if number is less than to 2 because these values are not prime\n",
    "    if n < 2:\n",
    "        return false\n",
    "    #Check for potential factors from 2 to the square root of n\n",
    "    for i in range(2, int(n**0.5) +1):\n",
    "        if n % i == 0:\n",
    "            return False # define anything dvisible by i as not prime\n",
    "    return True # No Divisors found, n is prime\n",
    "\n",
    "#make a place to enter the number for the prime check\n",
    "number = int(input(\"submit integer here:\"))\n",
    "\n",
    "# Call the function and print the result\n",
    "if prime(number):\n",
    "    print(f\"{number} is a prime number.\")\n",
    "else: \n",
    "    print(f\"{number} is not a prime number.\")\n",
    "\n",
    "\n"
   ]
  },
  {
   "cell_type": "code",
   "execution_count": 31,
   "id": "18962fd0-0846-4481-99ca-e36eae8a6484",
   "metadata": {},
   "outputs": [
    {
     "name": "stdin",
     "output_type": "stream",
     "text": [
      "Enter the number to compute the square root of:  10\n",
      "Enter the tolerance (default is 1e-6):  10\n"
     ]
    },
    {
     "name": "stdout",
     "output_type": "stream",
     "text": [
      "The square root of 10.0 is approximmately 3.5 with a tolerance of 10.0.\n"
     ]
    }
   ],
   "source": [
    "#Question 3\n",
    "#Define the square root function that will be using Heron's algorith\n",
    "def sqrt(y, tol=1e-6):\n",
    "    if y < 0:\n",
    "        raise ValuesError(\"Cannot compute square root of a negative number.\")\n",
    "\n",
    "    #Make the initial guess, which is y>1 use y/2, else 1 for small numbers\n",
    "    x_old = y/2 if y >1 else 1.0\n",
    "\n",
    "        #Update x using Heron's formula \n",
    "    while True: \n",
    "        x_new = 0.5 * (x_old + y/ x_old)\n",
    "\n",
    "        #check the error between x new and y\n",
    "        if abs(x_new**2 - y) / y < tol: \n",
    "            break\n",
    "\n",
    "        #update the old x_old\n",
    "        x_old = x_new\n",
    "\n",
    "    return x_new\n",
    "\n",
    "# Create a function to run the program\n",
    "if __name__ == \"__main__\":\n",
    "    #Ask user for numbers to run through program\n",
    "    try:\n",
    "        y = float(input(\"Enter the number to compute the square root of: \"))\n",
    "        tol = float(input(\"Enter the tolerance (default is 1e-6): \") or 1e-6)\n",
    "    \n",
    "        # call the sqrt function and print the result\n",
    "        result = sqrt(y, tol)\n",
    "        print(f\"The square root of {y} is approximmately {result} with a tolerance of {tol}.\")\n",
    "\n",
    "    except ValueError as e:\n",
    "        print(f\"Errorf: {e}\")\n",
    "        \n",
    "\n"
   ]
  }
 ],
 "metadata": {
  "kernelspec": {
   "display_name": "Python 3 (ipykernel)",
   "language": "python",
   "name": "python3"
  },
  "language_info": {
   "codemirror_mode": {
    "name": "ipython",
    "version": 3
   },
   "file_extension": ".py",
   "mimetype": "text/x-python",
   "name": "python",
   "nbconvert_exporter": "python",
   "pygments_lexer": "ipython3",
   "version": "3.12.4"
  }
 },
 "nbformat": 4,
 "nbformat_minor": 5
}
